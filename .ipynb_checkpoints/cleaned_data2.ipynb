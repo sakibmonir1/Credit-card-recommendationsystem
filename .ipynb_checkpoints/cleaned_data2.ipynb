{
 "cells": [
  {
   "cell_type": "code",
   "execution_count": 1,
   "metadata": {},
   "outputs": [],
   "source": [
    "import pandas as pd\n",
    "import matplotlib.pyplot as plt\n",
    "%matplotlib inline\n",
    "import numpy as np"
   ]
  },
  {
   "cell_type": "code",
   "execution_count": 2,
   "metadata": {},
   "outputs": [],
   "source": [
    "raw_data = pd.read_excel(\"raw_data.xlsx\")"
   ]
  },
  {
   "cell_type": "code",
   "execution_count": 3,
   "metadata": {},
   "outputs": [
    {
     "data": {
      "text/plain": [
       "Card Name                                object\n",
       "Bank Name                                object\n",
       "URL                                      object\n",
       "Card Type                                object\n",
       "Interest Rate(%)                         object\n",
       "Cash Withdrawal Limit Per transaction    object\n",
       "Cash withdrawal Limit Per day            object\n",
       "Credit Limit(Max)                        object\n",
       "International Transaction Available      object\n",
       "Balance Transfer Available               object\n",
       "Dual currency                            object\n",
       "reward_supplementary_card                object\n",
       "reward_airport_lounge                    object\n",
       "reward_cashback_available                object\n",
       "reward luxary resort/hotel               object\n",
       "reward insurance plan                    object\n",
       "reward travel benefits                   object\n",
       "reward fine dining                       object\n",
       "reward buffet discount                   object\n",
       "reward medical discount                  object\n",
       "reward_shopping                          object\n",
       "reward airlines ticket                   object\n",
       "reward point program                     object\n",
       "EMI available                            object\n",
       "dtype: object"
      ]
     },
     "execution_count": 3,
     "metadata": {},
     "output_type": "execute_result"
    }
   ],
   "source": [
    "raw_data.dtypes"
   ]
  },
  {
   "cell_type": "code",
   "execution_count": 4,
   "metadata": {},
   "outputs": [
    {
     "data": {
      "text/plain": [
       "Card Name                                 0\n",
       "Bank Name                                 0\n",
       "URL                                       0\n",
       "Card Type                                 0\n",
       "Interest Rate(%)                          4\n",
       "Cash Withdrawal Limit Per transaction     2\n",
       "Cash withdrawal Limit Per day             2\n",
       "Credit Limit(Max)                        15\n",
       "International Transaction Available       3\n",
       "Balance Transfer Available                6\n",
       "Dual currency                             7\n",
       "reward_supplementary_card                 4\n",
       "reward_airport_lounge                     5\n",
       "reward_cashback_available                 4\n",
       "reward luxary resort/hotel                4\n",
       "reward insurance plan                     4\n",
       "reward travel benefits                    4\n",
       "reward fine dining                        5\n",
       "reward buffet discount                    4\n",
       "reward medical discount                   4\n",
       "reward_shopping                           4\n",
       "reward airlines ticket                    4\n",
       "reward point program                      4\n",
       "EMI available                             5\n",
       "dtype: int64"
      ]
     },
     "execution_count": 4,
     "metadata": {},
     "output_type": "execute_result"
    }
   ],
   "source": [
    "raw_data.isnull().sum()"
   ]
  },
  {
   "cell_type": "markdown",
   "metadata": {},
   "source": [
    "# Boolean Features "
   ]
  },
  {
   "cell_type": "code",
   "execution_count": 5,
   "metadata": {},
   "outputs": [],
   "source": [
    "bool_features = list(raw_data.columns[8:])"
   ]
  },
  {
   "cell_type": "code",
   "execution_count": 6,
   "metadata": {},
   "outputs": [],
   "source": [
    "raw_data[bool_features] = raw_data[bool_features].fillna('F')"
   ]
  },
  {
   "cell_type": "markdown",
   "metadata": {},
   "source": [
    "# Interest Rate "
   ]
  },
  {
   "cell_type": "code",
   "execution_count": 7,
   "metadata": {},
   "outputs": [],
   "source": [
    "raw_data['Interest Rate(%)'] = raw_data['Interest Rate(%)'].replace('N/G',np.nan)"
   ]
  },
  {
   "cell_type": "markdown",
   "metadata": {},
   "source": [
    "# Cash Withdrawal Features "
   ]
  },
  {
   "cell_type": "code",
   "execution_count": 8,
   "metadata": {},
   "outputs": [],
   "source": [
    "raw_data['Cash Withdrawal Limit Per transaction'] = raw_data['Cash Withdrawal Limit Per transaction'].replace('N/G',np.nan)"
   ]
  },
  {
   "cell_type": "code",
   "execution_count": 9,
   "metadata": {},
   "outputs": [],
   "source": [
    "raw_data['Cash withdrawal Limit Per day'].replace('N/G',np.nan,inplace=True)"
   ]
  },
  {
   "cell_type": "code",
   "execution_count": 10,
   "metadata": {},
   "outputs": [],
   "source": [
    "raw_data['Cash withdrawal Limit Per day'].replace('BND 5,000',np.nan,inplace=True)"
   ]
  },
  {
   "cell_type": "code",
   "execution_count": 11,
   "metadata": {},
   "outputs": [],
   "source": [
    "raw_data['Cash withdrawal Limit Per day'].replace('BND 3,000',np.nan,inplace=True)"
   ]
  },
  {
   "cell_type": "code",
   "execution_count": 12,
   "metadata": {},
   "outputs": [
    {
     "data": {
      "text/plain": [
       "50000.0     10\n",
       "300000.0     2\n",
       "100000.0     2\n",
       "500000.0     2\n",
       "0.5          2\n",
       "250000.0     1\n",
       "20000.0      1\n",
       "30000.0      1\n",
       "Name: Cash withdrawal Limit Per day, dtype: int64"
      ]
     },
     "execution_count": 12,
     "metadata": {},
     "output_type": "execute_result"
    }
   ],
   "source": [
    "raw_data['Cash withdrawal Limit Per day'].value_counts()"
   ]
  },
  {
   "cell_type": "code",
   "execution_count": 13,
   "metadata": {},
   "outputs": [
    {
     "data": {
      "text/plain": [
       "Card Name                                  0\n",
       "Bank Name                                  0\n",
       "URL                                        0\n",
       "Card Type                                  0\n",
       "Interest Rate(%)                          93\n",
       "Cash Withdrawal Limit Per transaction    106\n",
       "Cash withdrawal Limit Per day            109\n",
       "Credit Limit(Max)                         15\n",
       "International Transaction Available        0\n",
       "Balance Transfer Available                 0\n",
       "Dual currency                              0\n",
       "reward_supplementary_card                  0\n",
       "reward_airport_lounge                      0\n",
       "reward_cashback_available                  0\n",
       "reward luxary resort/hotel                 0\n",
       "reward insurance plan                      0\n",
       "reward travel benefits                     0\n",
       "reward fine dining                         0\n",
       "reward buffet discount                     0\n",
       "reward medical discount                    0\n",
       "reward_shopping                            0\n",
       "reward airlines ticket                     0\n",
       "reward point program                       0\n",
       "EMI available                              0\n",
       "dtype: int64"
      ]
     },
     "execution_count": 13,
     "metadata": {},
     "output_type": "execute_result"
    }
   ],
   "source": [
    "raw_data.isnull().sum()"
   ]
  },
  {
   "cell_type": "code",
   "execution_count": 14,
   "metadata": {},
   "outputs": [],
   "source": [
    "raw_data.columns = ['card_name',\n",
    "                    'bank_name',\n",
    "                    'url',\n",
    "                    'card_type',\n",
    "                    'interest_rate',\n",
    "                    'cash_withdrawal_limit_per_transaction',\n",
    "                    'cash_withdrawal_limit_per_day',\n",
    "                    'max_credit_limit',\n",
    "                    'international_transaction_available',\n",
    "                    'balance_transfer_available',\n",
    "                    'dual_currency',\n",
    "                    'reward_supplementary_card',\n",
    "                    'reward_airport_lounge',\n",
    "                    'reward_cashback_available',\n",
    "                    'reward_luxary_resort_hotel',\n",
    "                    'reward_insurance_plan',\n",
    "                    'reward_travel_benefits',\n",
    "                    'reward_fine_dining',\n",
    "                    'reward_buffet_discount',\n",
    "                    'reward_medical_discount',\n",
    "                    'reward_shopping',\n",
    "                    'reward_airlines_ticket',\n",
    "                    'reward_point_program',\n",
    "                    'reward_emi_available']"
   ]
  },
  {
   "cell_type": "markdown",
   "metadata": {},
   "source": [
    "# Credit Limit "
   ]
  },
  {
   "cell_type": "code",
   "execution_count": 15,
   "metadata": {},
   "outputs": [],
   "source": [
    "raw_data['max_credit_limit'].replace('N/G',np.nan,inplace=True)"
   ]
  },
  {
   "cell_type": "code",
   "execution_count": 16,
   "metadata": {},
   "outputs": [],
   "source": [
    "raw_data['max_credit_limit'].replace('N/A',np.nan,inplace=True)"
   ]
  },
  {
   "cell_type": "markdown",
   "metadata": {},
   "source": [
    "# Convert to Numbers "
   ]
  },
  {
   "cell_type": "code",
   "execution_count": 17,
   "metadata": {},
   "outputs": [],
   "source": [
    "raw_data['interest_rate'] = raw_data['interest_rate'].astype(float)"
   ]
  },
  {
   "cell_type": "code",
   "execution_count": 18,
   "metadata": {},
   "outputs": [],
   "source": [
    "raw_data['cash_withdrawal_limit_per_transaction'] = raw_data['cash_withdrawal_limit_per_transaction'].astype(float)"
   ]
  },
  {
   "cell_type": "code",
   "execution_count": 19,
   "metadata": {},
   "outputs": [],
   "source": [
    "raw_data['cash_withdrawal_limit_per_day'] = raw_data['cash_withdrawal_limit_per_day'].astype(float)"
   ]
  },
  {
   "cell_type": "code",
   "execution_count": 20,
   "metadata": {},
   "outputs": [],
   "source": [
    "raw_data['max_credit_limit'] = raw_data['max_credit_limit'].astype(float)"
   ]
  },
  {
   "cell_type": "markdown",
   "metadata": {},
   "source": [
    "# Convert to 1 0 "
   ]
  },
  {
   "cell_type": "code",
   "execution_count": 21,
   "metadata": {},
   "outputs": [],
   "source": [
    "bool_columns = list(raw_data.columns[8:])"
   ]
  },
  {
   "cell_type": "code",
   "execution_count": 27,
   "metadata": {},
   "outputs": [],
   "source": [
    "for column in bool_columns:\n",
    "    raw_data[column] = raw_data[column].str.strip()\n",
    "    raw_data[column]= raw_data[column].map({'T':1,'F':0,'N/G':0})"
   ]
  },
  {
   "cell_type": "code",
   "execution_count": 30,
   "metadata": {},
   "outputs": [
    {
     "data": {
      "text/plain": [
       "card_name                                 object\n",
       "bank_name                                 object\n",
       "url                                       object\n",
       "card_type                                 object\n",
       "interest_rate                            float64\n",
       "cash_withdrawal_limit_per_transaction    float64\n",
       "cash_withdrawal_limit_per_day            float64\n",
       "max_credit_limit                         float64\n",
       "international_transaction_available        int64\n",
       "balance_transfer_available                 int64\n",
       "dual_currency                              int64\n",
       "reward_supplementary_card                  int64\n",
       "reward_airport_lounge                      int64\n",
       "reward_cashback_available                  int64\n",
       "reward_luxary_resort_hotel                 int64\n",
       "reward_insurance_plan                      int64\n",
       "reward_travel_benefits                     int64\n",
       "reward_fine_dining                         int64\n",
       "reward_buffet_discount                     int64\n",
       "reward_medical_discount                    int64\n",
       "reward_shopping                            int64\n",
       "reward_airlines_ticket                     int64\n",
       "reward_point_program                       int64\n",
       "reward_emi_available                       int64\n",
       "dtype: object"
      ]
     },
     "execution_count": 30,
     "metadata": {},
     "output_type": "execute_result"
    }
   ],
   "source": [
    "raw_data.dtypes"
   ]
  },
  {
   "cell_type": "markdown",
   "metadata": {},
   "source": [
    "# Save Data "
   ]
  },
  {
   "cell_type": "code",
   "execution_count": 31,
   "metadata": {},
   "outputs": [],
   "source": [
    "raw_data.to_csv(\"clean_data.csv\",index=False)"
   ]
  }
 ],
 "metadata": {
  "kernelspec": {
   "display_name": "Python 3",
   "language": "python",
   "name": "python3"
  },
  "language_info": {
   "codemirror_mode": {
    "name": "ipython",
    "version": 3
   },
   "file_extension": ".py",
   "mimetype": "text/x-python",
   "name": "python",
   "nbconvert_exporter": "python",
   "pygments_lexer": "ipython3",
   "version": "3.8.5"
  }
 },
 "nbformat": 4,
 "nbformat_minor": 2
}

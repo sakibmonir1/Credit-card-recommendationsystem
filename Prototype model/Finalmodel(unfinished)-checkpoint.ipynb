{
 "cells": [
  {
   "cell_type": "code",
   "execution_count": 1,
   "metadata": {},
   "outputs": [],
   "source": [
    "import pandas as pd\n",
    "import numpy as np\n",
    "import matplotlib.pyplot as plt\n",
    "%matplotlib inline"
   ]
  },
  {
   "cell_type": "code",
   "execution_count": null,
   "metadata": {},
   "outputs": [],
   "source": [
    "import sklearn"
   ]
  },
  {
   "cell_type": "code",
   "execution_count": 3,
   "metadata": {},
   "outputs": [],
   "source": [
    "cards = pd.read_csv(\"clean_data_with_id2.csv\")"
   ]
  },
  {
   "cell_type": "code",
   "execution_count": 4,
   "metadata": {},
   "outputs": [],
   "source": [
    "card_features  = cards.drop([\"card_name\",\"id\",\"url\"],axis=1)"
   ]
  },
  {
   "cell_type": "code",
   "execution_count": 5,
   "metadata": {},
   "outputs": [],
   "source": [
    "# pd.Series(cards['bank_name'].unique()).to_csv(\"bank_name.csv\",index=False)"
   ]
  },
  {
   "cell_type": "code",
   "execution_count": 6,
   "metadata": {},
   "outputs": [
    {
     "data": {
      "text/plain": [
       "bank_name                               0\n",
       "card_type                               0\n",
       "interest_rate                          93\n",
       "max_credit_limit                       63\n",
       "international_transaction_available     0\n",
       "balance_transfer_available              0\n",
       "dual_currency                           0\n",
       "reward_supplementary_card               0\n",
       "reward_airport_lounge                   0\n",
       "reward_cashback_available               0\n",
       "reward_luxary_resort_hotel              0\n",
       "reward_insurance_plan                   0\n",
       "reward_travel_benefits                  0\n",
       "reward_fine_dining                      0\n",
       "reward_buffet_discount                  0\n",
       "reward_medical_discount                 0\n",
       "reward_shopping                         0\n",
       "reward_airlines_ticket                  0\n",
       "reward_point_program                    0\n",
       "reward_emi_available                    0\n",
       "dtype: int64"
      ]
     },
     "execution_count": 6,
     "metadata": {},
     "output_type": "execute_result"
    }
   ],
   "source": [
    "card_features.isnull().sum()"
   ]
  },
  {
   "cell_type": "code",
   "execution_count": 7,
   "metadata": {},
   "outputs": [],
   "source": [
    "# Boolean Features \n",
    "\n",
    "card_boolean_features = card_features.columns[4:]"
   ]
  },
  {
   "cell_type": "code",
   "execution_count": 8,
   "metadata": {},
   "outputs": [
    {
     "data": {
      "text/plain": [
       "Index(['international_transaction_available', 'balance_transfer_available',\n",
       "       'dual_currency', 'reward_supplementary_card', 'reward_airport_lounge',\n",
       "       'reward_cashback_available', 'reward_luxary_resort_hotel',\n",
       "       'reward_insurance_plan', 'reward_travel_benefits', 'reward_fine_dining',\n",
       "       'reward_buffet_discount', 'reward_medical_discount', 'reward_shopping',\n",
       "       'reward_airlines_ticket', 'reward_point_program',\n",
       "       'reward_emi_available'],\n",
       "      dtype='object')"
      ]
     },
     "execution_count": 8,
     "metadata": {},
     "output_type": "execute_result"
    }
   ],
   "source": [
    "card_boolean_features"
   ]
  },
  {
   "cell_type": "markdown",
   "metadata": {},
   "source": [
    "# Handle Card Type "
   ]
  },
  {
   "cell_type": "code",
   "execution_count": 9,
   "metadata": {},
   "outputs": [],
   "source": [
    "card_features['card_type'] = card_features['card_type'].str.strip()"
   ]
  },
  {
   "cell_type": "code",
   "execution_count": 10,
   "metadata": {},
   "outputs": [
    {
     "data": {
      "text/plain": [
       "Credit                   83\n",
       "Debit                    34\n",
       "Prepaid                   6\n",
       "Proprietary               1\n",
       "Dual Currency             1\n",
       "Hajj                      1\n",
       "Credit(Women only)        1\n",
       "Prepaid International     1\n",
       "Virtual Prepaid           1\n",
       "Prepaid(Hajj)             1\n",
       "Name: card_type, dtype: int64"
      ]
     },
     "execution_count": 10,
     "metadata": {},
     "output_type": "execute_result"
    }
   ],
   "source": [
    "card_features['card_type'].value_counts()"
   ]
  },
  {
   "cell_type": "code",
   "execution_count": 11,
   "metadata": {},
   "outputs": [],
   "source": [
    "card_type_dict = {}\n",
    "for card_type in card_features['card_type'].value_counts().index:\n",
    "    if card_type in [\"Credit\",\"Debit\",\"Prepaid\"]:\n",
    "        card_type_dict[card_type]=card_type\n",
    "    else:\n",
    "        card_type_dict[card_type]=\"Prepaid\""
   ]
  },
  {
   "cell_type": "code",
   "execution_count": 12,
   "metadata": {},
   "outputs": [],
   "source": [
    "card_features['card_type'] = card_features['card_type'].map(card_type_dict)"
   ]
  },
  {
   "cell_type": "code",
   "execution_count": 13,
   "metadata": {},
   "outputs": [
    {
     "data": {
      "text/plain": [
       "Credit     83\n",
       "Debit      34\n",
       "Prepaid    13\n",
       "Name: card_type, dtype: int64"
      ]
     },
     "execution_count": 13,
     "metadata": {},
     "output_type": "execute_result"
    }
   ],
   "source": [
    "card_features['card_type'].value_counts()"
   ]
  },
  {
   "cell_type": "markdown",
   "metadata": {},
   "source": []
  }
 ],
 "metadata": {
  "kernelspec": {
   "display_name": "Python 3",
   "language": "python",
   "name": "python3"
  },
  "language_info": {
   "codemirror_mode": {
    "name": "ipython",
    "version": 3
   },
   "file_extension": ".py",
   "mimetype": "text/x-python",
   "name": "python",
   "nbconvert_exporter": "python",
   "pygments_lexer": "ipython3",
   "version": "3.8.5"
  }
 },
 "nbformat": 4,
 "nbformat_minor": 2
}

{
 "cells": [
  {
   "cell_type": "code",
   "execution_count": 2,
   "metadata": {},
   "outputs": [],
   "source": [
    "import pandas as pd\n",
    "import numpy as np\n",
    "import matplotlib.pyplot as plt\n",
    "%matplotlib inline"
   ]
  },
  {
   "cell_type": "code",
   "execution_count": 3,
   "metadata": {},
   "outputs": [],
   "source": [
    "import sklearn"
   ]
  },
  {
   "cell_type": "code",
   "execution_count": 4,
   "metadata": {},
   "outputs": [],
   "source": [
    "cards = pd.read_csv(\"clean_data_with_id2.csv\")"
   ]
  },
  {
   "cell_type": "code",
   "execution_count": 5,
   "metadata": {},
   "outputs": [],
   "source": [
    "card_features  = cards.drop([\"card_name\",\"id\",\"url\"],axis=1)"
   ]
  },
  {
   "cell_type": "code",
   "execution_count": 6,
   "metadata": {},
   "outputs": [],
   "source": [
    "# pd.Series(cards['bank_name'].unique()).to_csv(\"bank_name.csv\",index=False)"
   ]
  },
  {
   "cell_type": "code",
   "execution_count": 7,
   "metadata": {},
   "outputs": [
    {
     "data": {
      "text/plain": [
       "bank_name                               0\n",
       "card_type                               0\n",
       "interest_rate                          93\n",
       "max_credit_limit                       63\n",
       "international_transaction_available     0\n",
       "balance_transfer_available              0\n",
       "dual_currency                           0\n",
       "reward_supplementary_card               0\n",
       "reward_airport_lounge                   0\n",
       "reward_cashback_available               0\n",
       "reward_luxary_resort_hotel              0\n",
       "reward_insurance_plan                   0\n",
       "reward_travel_benefits                  0\n",
       "reward_fine_dining                      0\n",
       "reward_buffet_discount                  0\n",
       "reward_medical_discount                 0\n",
       "reward_shopping                         0\n",
       "reward_airlines_ticket                  0\n",
       "reward_point_program                    0\n",
       "reward_emi_available                    0\n",
       "dtype: int64"
      ]
     },
     "execution_count": 7,
     "metadata": {},
     "output_type": "execute_result"
    }
   ],
   "source": [
    "card_features.isnull().sum()"
   ]
  },
  {
   "cell_type": "code",
   "execution_count": 8,
   "metadata": {},
   "outputs": [],
   "source": [
    "# Boolean Features \n",
    "\n",
    "card_boolean_features = card_features.columns[4:]"
   ]
  },
  {
   "cell_type": "code",
   "execution_count": 9,
   "metadata": {
    "scrolled": false
   },
   "outputs": [
    {
     "data": {
      "text/plain": [
       "Index(['international_transaction_available', 'balance_transfer_available',\n",
       "       'dual_currency', 'reward_supplementary_card', 'reward_airport_lounge',\n",
       "       'reward_cashback_available', 'reward_luxary_resort_hotel',\n",
       "       'reward_insurance_plan', 'reward_travel_benefits', 'reward_fine_dining',\n",
       "       'reward_buffet_discount', 'reward_medical_discount', 'reward_shopping',\n",
       "       'reward_airlines_ticket', 'reward_point_program',\n",
       "       'reward_emi_available'],\n",
       "      dtype='object')"
      ]
     },
     "execution_count": 9,
     "metadata": {},
     "output_type": "execute_result"
    }
   ],
   "source": [
    "card_boolean_features"
   ]
  },
  {
   "cell_type": "markdown",
   "metadata": {},
   "source": [
    "# Handle Card Type "
   ]
  },
  {
   "cell_type": "code",
   "execution_count": 10,
   "metadata": {},
   "outputs": [],
   "source": [
    "card_features['card_type'] = card_features['card_type'].str.strip()"
   ]
  },
  {
   "cell_type": "code",
   "execution_count": 11,
   "metadata": {
    "scrolled": true
   },
   "outputs": [
    {
     "data": {
      "text/plain": [
       "Credit                   83\n",
       "Debit                    34\n",
       "Prepaid                   6\n",
       "Prepaid International     1\n",
       "Credit(Women only)        1\n",
       "Virtual Prepaid           1\n",
       "Proprietary               1\n",
       "Dual Currency             1\n",
       "Prepaid(Hajj)             1\n",
       "Hajj                      1\n",
       "Name: card_type, dtype: int64"
      ]
     },
     "execution_count": 11,
     "metadata": {},
     "output_type": "execute_result"
    }
   ],
   "source": [
    "card_features['card_type'].value_counts()"
   ]
  },
  {
   "cell_type": "code",
   "execution_count": 12,
   "metadata": {},
   "outputs": [],
   "source": [
    "card_type_dict = {}\n",
    "for card_type in card_features['card_type'].value_counts().index:\n",
    "    if card_type in [\"Credit\",\"Debit\",\"Prepaid\"]:\n",
    "        card_type_dict[card_type]=card_type\n",
    "    else:\n",
    "        card_type_dict[card_type]=\"Prepaid\""
   ]
  },
  {
   "cell_type": "code",
   "execution_count": 13,
   "metadata": {},
   "outputs": [],
   "source": [
    "card_features['card_type'] = card_features['card_type'].map(card_type_dict)"
   ]
  },
  {
   "cell_type": "code",
   "execution_count": 14,
   "metadata": {},
   "outputs": [
    {
     "data": {
      "text/plain": [
       "Credit     83\n",
       "Debit      34\n",
       "Prepaid    13\n",
       "Name: card_type, dtype: int64"
      ]
     },
     "execution_count": 14,
     "metadata": {},
     "output_type": "execute_result"
    }
   ],
   "source": [
    "card_features['card_type'].value_counts()"
   ]
  },
  {
   "cell_type": "markdown",
   "metadata": {},
   "source": [
    "# Handle Interest Rate\n"
   ]
  },
  {
   "cell_type": "code",
   "execution_count": 15,
   "metadata": {},
   "outputs": [],
   "source": [
    "card_features['interest_rate'] = card_features['interest_rate'].fillna(-10).astype('float')\n",
    "\n",
    "interest_rate_conditions = [\n",
    "    (card_features['interest_rate'] == 0),\n",
    "    (card_features['interest_rate'] == -10),\n",
    "    (card_features['interest_rate'] >=1) & (card_features['interest_rate'] <=10),\n",
    "    (card_features['interest_rate'] >=11) & (card_features['interest_rate'] <=20),\n",
    "    (card_features['interest_rate'] >=21) & (card_features['interest_rate'] <=30),]\n",
    "    \n",
    "\n",
    "interest_rate_choices = ['zero','1-10','1-10','11-20','21-30']"
   ]
  },
  {
   "cell_type": "code",
   "execution_count": 16,
   "metadata": {},
   "outputs": [],
   "source": [
    "card_features['interest_rate'] = np.select(interest_rate_conditions,interest_rate_choices)"
   ]
  },
  {
   "cell_type": "code",
   "execution_count": 17,
   "metadata": {},
   "outputs": [],
   "source": [
    "card_features['interest_rate'].replace('0','zero',inplace=True)"
   ]
  },
  {
   "cell_type": "markdown",
   "metadata": {},
   "source": [
    "# Handle Max Credit Limit"
   ]
  },
  {
   "cell_type": "code",
   "execution_count": 19,
   "metadata": {},
   "outputs": [],
   "source": [
    "card_features['max_credit_limit'] = card_features['max_credit_limit'].fillna(-10).astype('float')"
   ]
  },
  {
   "cell_type": "code",
   "execution_count": 20,
   "metadata": {},
   "outputs": [],
   "source": [
    "credit_limit_conditions = [\n",
    "    (card_features['max_credit_limit'] == -10),\n",
    "    (card_features['max_credit_limit']<=100000),\n",
    "    (card_features['max_credit_limit']>100000) & (card_features['max_credit_limit']<500000),\n",
    "    (card_features['max_credit_limit']>500000) & (card_features['max_credit_limit']<1000000),\n",
    "    (card_features['max_credit_limit']>1000000),\n",
    "    ]\n",
    "\n",
    "credit_limit_choices = ['unknown','0-100000','100000-500000','500000-1000000','1000000+']\n",
    "card_features['max_credit_limit'] = np.select(credit_limit_conditions,credit_limit_choices)"
   ]
  },
  {
   "cell_type": "code",
   "execution_count": 21,
   "metadata": {},
   "outputs": [],
   "source": [
    "card_features['hajj_card'] = cards['card_name'].str.contains('Hajj')\n",
    "card_features['is_visa'] = (cards['card_name'].str.contains('Visa')) | (cards['card_name'].str.contains('visa'))\n",
    "card_features['is_mastercard'] = (cards['card_name'].str.contains('MasterCard')) | (cards['card_name'].str.contains('mastercard'))"
   ]
  },
  {
   "cell_type": "code",
   "execution_count": 22,
   "metadata": {},
   "outputs": [],
   "source": [
    "card_features['max_credit_limit'].replace('0','N/A',inplace=True)"
   ]
  },
  {
   "cell_type": "code",
   "execution_count": 23,
   "metadata": {},
   "outputs": [],
   "source": [
    "card_features = pd.get_dummies(card_features)"
   ]
  },
  {
   "cell_type": "code",
   "execution_count": 24,
   "metadata": {},
   "outputs": [
    {
     "data": {
      "text/plain": [
       "Index(['international_transaction_available', 'balance_transfer_available',\n",
       "       'dual_currency', 'reward_supplementary_card', 'reward_airport_lounge',\n",
       "       'reward_cashback_available', 'reward_luxary_resort_hotel',\n",
       "       'reward_insurance_plan', 'reward_travel_benefits', 'reward_fine_dining',\n",
       "       'reward_buffet_discount', 'reward_medical_discount', 'reward_shopping',\n",
       "       'reward_airlines_ticket', 'reward_point_program',\n",
       "       'reward_emi_available', 'hajj_card', 'is_visa', 'is_mastercard',\n",
       "       'bank_name_AB Bank', 'bank_name_Agrani Bank Limited',\n",
       "       'bank_name_BRAC Bank Limited', 'bank_name_Bangladesh Krishi Bank',\n",
       "       'bank_name_Bank Asia Limited', 'bank_name_City Bank Limited',\n",
       "       'bank_name_Dhaka Bank', 'bank_name_Dutch Bangla Bank Limited',\n",
       "       'bank_name_IFIC Bank Limited', 'bank_name_Jamuna Bank Limited',\n",
       "       'bank_name_Janata Bank Limited', 'bank_name_Meghna Bank',\n",
       "       'bank_name_Midland Bank', 'bank_name_Modhumoti Bank',\n",
       "       'bank_name_Mutual Trust bank Limited', 'bank_name_NRB Bank Limited',\n",
       "       'bank_name_NRB Commercial Bank Limited',\n",
       "       'bank_name_National Credit and Commerce Bank Limited',\n",
       "       'bank_name_One Bank', 'bank_name_Premier Bank', 'bank_name_Prime Bank',\n",
       "       'bank_name_Pubali Bank Limited', 'bank_name_Rupali Bank Limited',\n",
       "       'bank_name_Sonali Bank Limited', 'bank_name_Standard Charter',\n",
       "       'bank_name_Trust Bank', 'bank_name_United Commercial Bank Limited',\n",
       "       'card_type_Credit', 'card_type_Debit', 'card_type_Prepaid',\n",
       "       'interest_rate_1-10', 'interest_rate_11-20', 'interest_rate_21-30',\n",
       "       'interest_rate_zero', 'max_credit_limit_0-100000',\n",
       "       'max_credit_limit_100000-500000', 'max_credit_limit_1000000+',\n",
       "       'max_credit_limit_N/A', 'max_credit_limit_unknown'],\n",
       "      dtype='object')"
      ]
     },
     "execution_count": 24,
     "metadata": {},
     "output_type": "execute_result"
    }
   ],
   "source": [
    "card_features.columns"
   ]
  },
  {
   "cell_type": "code",
   "execution_count": null,
   "metadata": {},
   "outputs": [],
   "source": []
  }
 ],
 "metadata": {
  "kernelspec": {
   "display_name": "Python 3",
   "language": "python",
   "name": "python3"
  },
  "language_info": {
   "codemirror_mode": {
    "name": "ipython",
    "version": 3
   },
   "file_extension": ".py",
   "mimetype": "text/x-python",
   "name": "python",
   "nbconvert_exporter": "python",
   "pygments_lexer": "ipython3",
   "version": "3.8.5"
  }
 },
 "nbformat": 4,
 "nbformat_minor": 2
}

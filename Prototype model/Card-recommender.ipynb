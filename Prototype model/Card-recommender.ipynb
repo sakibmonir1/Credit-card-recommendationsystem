{
 "cells": [
  {
   "cell_type": "code",
   "execution_count": 1,
   "metadata": {},
   "outputs": [],
   "source": [
    "import pandas as pd\n",
    "import seaborn as sns\n",
    "import numpy as np\n",
    "import matplotlib.pyplot as plt\n",
    "%matplotlib inline\n",
    "plt.style.use('seaborn')\n"
   ]
  },
  {
   "cell_type": "code",
   "execution_count": 2,
   "metadata": {},
   "outputs": [],
   "source": [
    "cards  = pd.read_csv(\"Card.csv\")"
   ]
  },
  {
   "cell_type": "code",
   "execution_count": 3,
   "metadata": {},
   "outputs": [],
   "source": [
    "cards = cards[0:56]"
   ]
  },
  {
   "cell_type": "code",
   "execution_count": 4,
   "metadata": {},
   "outputs": [
    {
     "name": "stdout",
     "output_type": "stream",
     "text": [
      "<class 'pandas.core.frame.DataFrame'>\n",
      "RangeIndex: 56 entries, 0 to 55\n",
      "Data columns (total 24 columns):\n",
      " #   Column                                 Non-Null Count  Dtype \n",
      "---  ------                                 --------------  ----- \n",
      " 0   Card Name                              56 non-null     object\n",
      " 1   Bank Name                              56 non-null     object\n",
      " 2   URL                                    56 non-null     object\n",
      " 3   Card Type                              56 non-null     object\n",
      " 4   Interest Rate(%)                       54 non-null     object\n",
      " 5   Cash Withdrawal Limit Per transaction  56 non-null     object\n",
      " 6   Cash withdrawal Limit Per day          56 non-null     object\n",
      " 7   Credit Limit(Max)                      43 non-null     object\n",
      " 8   International Transaction Available    56 non-null     object\n",
      " 9   Balance Transfer Available             56 non-null     object\n",
      " 10  Dual currency                          56 non-null     object\n",
      " 11  reward_supplementary_card              56 non-null     object\n",
      " 12  reward_airport_lounge                  56 non-null     object\n",
      " 13  reward_cashback_available              56 non-null     object\n",
      " 14  reward luxary resort/hotel             56 non-null     object\n",
      " 15  reward insurance plan                  56 non-null     object\n",
      " 16  reward travel benefits                 56 non-null     object\n",
      " 17  reward fine dining                     56 non-null     object\n",
      " 18  reward buffet discount                 56 non-null     object\n",
      " 19  reward medical discount                56 non-null     object\n",
      " 20  reward_shopping                        56 non-null     object\n",
      " 21  reward airlines ticket                 56 non-null     object\n",
      " 22  reward point program                   56 non-null     object\n",
      " 23  EMI available                          56 non-null     object\n",
      "dtypes: object(24)\n",
      "memory usage: 10.6+ KB\n"
     ]
    }
   ],
   "source": [
    "cards.info()"
   ]
  },
  {
   "cell_type": "code",
   "execution_count": 5,
   "metadata": {},
   "outputs": [
    {
     "data": {
      "text/html": [
       "<div>\n",
       "<style scoped>\n",
       "    .dataframe tbody tr th:only-of-type {\n",
       "        vertical-align: middle;\n",
       "    }\n",
       "\n",
       "    .dataframe tbody tr th {\n",
       "        vertical-align: top;\n",
       "    }\n",
       "\n",
       "    .dataframe thead th {\n",
       "        text-align: right;\n",
       "    }\n",
       "</style>\n",
       "<table border=\"1\" class=\"dataframe\">\n",
       "  <thead>\n",
       "    <tr style=\"text-align: right;\">\n",
       "      <th></th>\n",
       "      <th>Card Name</th>\n",
       "      <th>Bank Name</th>\n",
       "      <th>URL</th>\n",
       "      <th>Card Type</th>\n",
       "      <th>Interest Rate(%)</th>\n",
       "      <th>Cash Withdrawal Limit Per transaction</th>\n",
       "      <th>Cash withdrawal Limit Per day</th>\n",
       "      <th>Credit Limit(Max)</th>\n",
       "      <th>International Transaction Available</th>\n",
       "      <th>Balance Transfer Available</th>\n",
       "      <th>...</th>\n",
       "      <th>reward luxary resort/hotel</th>\n",
       "      <th>reward insurance plan</th>\n",
       "      <th>reward travel benefits</th>\n",
       "      <th>reward fine dining</th>\n",
       "      <th>reward buffet discount</th>\n",
       "      <th>reward medical discount</th>\n",
       "      <th>reward_shopping</th>\n",
       "      <th>reward airlines ticket</th>\n",
       "      <th>reward point program</th>\n",
       "      <th>EMI available</th>\n",
       "    </tr>\n",
       "  </thead>\n",
       "  <tbody>\n",
       "    <tr>\n",
       "      <th>count</th>\n",
       "      <td>56</td>\n",
       "      <td>56</td>\n",
       "      <td>56</td>\n",
       "      <td>56</td>\n",
       "      <td>54</td>\n",
       "      <td>56</td>\n",
       "      <td>56</td>\n",
       "      <td>43</td>\n",
       "      <td>56</td>\n",
       "      <td>56</td>\n",
       "      <td>...</td>\n",
       "      <td>56</td>\n",
       "      <td>56</td>\n",
       "      <td>56</td>\n",
       "      <td>56</td>\n",
       "      <td>56</td>\n",
       "      <td>56</td>\n",
       "      <td>56</td>\n",
       "      <td>56</td>\n",
       "      <td>56</td>\n",
       "      <td>56</td>\n",
       "    </tr>\n",
       "    <tr>\n",
       "      <th>unique</th>\n",
       "      <td>56</td>\n",
       "      <td>15</td>\n",
       "      <td>55</td>\n",
       "      <td>7</td>\n",
       "      <td>6</td>\n",
       "      <td>7</td>\n",
       "      <td>10</td>\n",
       "      <td>13</td>\n",
       "      <td>3</td>\n",
       "      <td>2</td>\n",
       "      <td>...</td>\n",
       "      <td>2</td>\n",
       "      <td>2</td>\n",
       "      <td>2</td>\n",
       "      <td>2</td>\n",
       "      <td>2</td>\n",
       "      <td>2</td>\n",
       "      <td>2</td>\n",
       "      <td>3</td>\n",
       "      <td>2</td>\n",
       "      <td>2</td>\n",
       "    </tr>\n",
       "    <tr>\n",
       "      <th>top</th>\n",
       "      <td>Brac Bank  Planet Debit Card</td>\n",
       "      <td>Dutch Bangla Bank Limited</td>\n",
       "      <td>https://www.midlandbankbd.net/mdb-credit-card/</td>\n",
       "      <td>Credit</td>\n",
       "      <td>N/G</td>\n",
       "      <td>N/G</td>\n",
       "      <td>N/G</td>\n",
       "      <td>N/G</td>\n",
       "      <td>T</td>\n",
       "      <td>F</td>\n",
       "      <td>...</td>\n",
       "      <td>F</td>\n",
       "      <td>F</td>\n",
       "      <td>F</td>\n",
       "      <td>F</td>\n",
       "      <td>F</td>\n",
       "      <td>F</td>\n",
       "      <td>F</td>\n",
       "      <td>F</td>\n",
       "      <td>F</td>\n",
       "      <td>F</td>\n",
       "    </tr>\n",
       "    <tr>\n",
       "      <th>freq</th>\n",
       "      <td>1</td>\n",
       "      <td>10</td>\n",
       "      <td>2</td>\n",
       "      <td>25</td>\n",
       "      <td>28</td>\n",
       "      <td>46</td>\n",
       "      <td>42</td>\n",
       "      <td>13</td>\n",
       "      <td>28</td>\n",
       "      <td>42</td>\n",
       "      <td>...</td>\n",
       "      <td>42</td>\n",
       "      <td>51</td>\n",
       "      <td>46</td>\n",
       "      <td>41</td>\n",
       "      <td>44</td>\n",
       "      <td>51</td>\n",
       "      <td>28</td>\n",
       "      <td>45</td>\n",
       "      <td>41</td>\n",
       "      <td>47</td>\n",
       "    </tr>\n",
       "  </tbody>\n",
       "</table>\n",
       "<p>4 rows × 24 columns</p>\n",
       "</div>"
      ],
      "text/plain": [
       "                           Card Name                  Bank Name  \\\n",
       "count                             56                         56   \n",
       "unique                            56                         15   \n",
       "top     Brac Bank  Planet Debit Card  Dutch Bangla Bank Limited   \n",
       "freq                               1                         10   \n",
       "\n",
       "                                                   URL Card Type  \\\n",
       "count                                               56        56   \n",
       "unique                                              55         7   \n",
       "top     https://www.midlandbankbd.net/mdb-credit-card/    Credit   \n",
       "freq                                                 2        25   \n",
       "\n",
       "       Interest Rate(%) Cash Withdrawal Limit Per transaction  \\\n",
       "count                54                                    56   \n",
       "unique                6                                     7   \n",
       "top                 N/G                                   N/G   \n",
       "freq                 28                                    46   \n",
       "\n",
       "       Cash withdrawal Limit Per day Credit Limit(Max)  \\\n",
       "count                             56                43   \n",
       "unique                            10                13   \n",
       "top                              N/G               N/G   \n",
       "freq                              42                13   \n",
       "\n",
       "       International Transaction Available Balance Transfer Available  ...  \\\n",
       "count                                   56                         56  ...   \n",
       "unique                                   3                          2  ...   \n",
       "top                                      T                          F  ...   \n",
       "freq                                    28                         42  ...   \n",
       "\n",
       "       reward luxary resort/hotel reward insurance plan  \\\n",
       "count                          56                    56   \n",
       "unique                          2                     2   \n",
       "top                             F                     F   \n",
       "freq                           42                    51   \n",
       "\n",
       "       reward travel benefits reward fine dining reward buffet discount  \\\n",
       "count                      56                 56                     56   \n",
       "unique                      2                  2                      2   \n",
       "top                         F                  F                      F   \n",
       "freq                       46                 41                     44   \n",
       "\n",
       "       reward medical discount reward_shopping reward airlines ticket  \\\n",
       "count                       56              56                     56   \n",
       "unique                       2               2                      3   \n",
       "top                          F               F                      F   \n",
       "freq                        51              28                     45   \n",
       "\n",
       "       reward point program EMI available  \n",
       "count                    56            56  \n",
       "unique                    2             2  \n",
       "top                       F             F  \n",
       "freq                     41            47  \n",
       "\n",
       "[4 rows x 24 columns]"
      ]
     },
     "execution_count": 5,
     "metadata": {},
     "output_type": "execute_result"
    }
   ],
   "source": [
    "cards.describe()"
   ]
  },
  {
   "cell_type": "code",
   "execution_count": 6,
   "metadata": {},
   "outputs": [
    {
     "data": {
      "text/plain": [
       "Card Name                                 0\n",
       "Bank Name                                 0\n",
       "URL                                       0\n",
       "Card Type                                 0\n",
       "Interest Rate(%)                          2\n",
       "Cash Withdrawal Limit Per transaction     0\n",
       "Cash withdrawal Limit Per day             0\n",
       "Credit Limit(Max)                        13\n",
       "International Transaction Available       0\n",
       "Balance Transfer Available                0\n",
       "Dual currency                             0\n",
       "reward_supplementary_card                 0\n",
       "reward_airport_lounge                     0\n",
       "reward_cashback_available                 0\n",
       "reward luxary resort/hotel                0\n",
       "reward insurance plan                     0\n",
       "reward travel benefits                    0\n",
       "reward fine dining                        0\n",
       "reward buffet discount                    0\n",
       "reward medical discount                   0\n",
       "reward_shopping                           0\n",
       "reward airlines ticket                    0\n",
       "reward point program                      0\n",
       "EMI available                             0\n",
       "dtype: int64"
      ]
     },
     "execution_count": 6,
     "metadata": {},
     "output_type": "execute_result"
    }
   ],
   "source": [
    "cards.isnull().sum()"
   ]
  },
  {
   "cell_type": "code",
   "execution_count": 7,
   "metadata": {},
   "outputs": [
    {
     "data": {
      "text/plain": [
       "Text(0.5, 0, 'Bank Name')"
      ]
     },
     "execution_count": 7,
     "metadata": {},
     "output_type": "execute_result"
    },
    {
     "data": {
      "image/png": "[encoded data removed]",
      "text/plain": [
       "<Figure size 504x504 with 1 Axes>"
      ]
     },
     "metadata": {},
     "output_type": "display_data"
    }
   ],
   "source": [
    "cards['Bank Name'].value_counts().plot(kind='bar',rot=80,figsize=(7,7))\n",
    "plt.ylabel(\"Card Count\")\n",
    "plt.xlabel(\"Bank Name\")"
   ]
  },
  {
   "cell_type": "code",
   "execution_count": null,
   "metadata": {},
   "outputs": [],
   "source": []
  }
 ],
 "metadata": {
  "kernelspec": {
   "display_name": "Python 3",
   "language": "python",
   "name": "python3"
  },
  "language_info": {
   "codemirror_mode": {
    "name": "ipython",
    "version": 3
   },
   "file_extension": ".py",
   "mimetype": "text/x-python",
   "name": "python",
   "nbconvert_exporter": "python",
   "pygments_lexer": "ipython3",
   "version": "3.8.5"
  }
 },
 "nbformat": 4,
 "nbformat_minor": 4
}

{
 "cells": [
  {
   "cell_type": "markdown",
   "metadata": {},
   "source": [
    "# Learn API"
   ]
  },
  {
   "cell_type": "code",
   "execution_count": 206,
   "metadata": {},
   "outputs": [],
   "source": [
    "import requests\n",
    "import numpy as np\n",
    "import json"
   ]
  },
  {
   "cell_type": "code",
   "execution_count": 11,
   "metadata": {},
   "outputs": [],
   "source": [
    "response = requests.get(\"http://api.open-notify.org/iss-now.json\")"
   ]
  },
  {
   "cell_type": "code",
   "execution_count": 12,
   "metadata": {},
   "outputs": [
    {
     "data": {
      "text/plain": [
       "200"
      ]
     },
     "execution_count": 12,
     "metadata": {},
     "output_type": "execute_result"
    }
   ],
   "source": [
    "response.status_code"
   ]
  },
  {
   "cell_type": "code",
   "execution_count": 19,
   "metadata": {},
   "outputs": [
    {
     "data": {
      "text/plain": [
       "{'message': 'success',\n",
       " 'iss_position': {'longitude': '15.2324', 'latitude': '-7.7429'},\n",
       " 'timestamp': 1544768878}"
      ]
     },
     "execution_count": 19,
     "metadata": {},
     "output_type": "execute_result"
    }
   ],
   "source": [
    "response.json()"
   ]
  },
  {
   "cell_type": "code",
   "execution_count": 21,
   "metadata": {},
   "outputs": [
    {
     "name": "stdout",
     "output_type": "stream",
     "text": [
      "{'message': 'success', 'request': {'altitude': 100, 'datetime': 1544765793, 'latitude': 40.71, 'longitude': -74.0, 'passes': 5}, 'response': [{'duration': 583, 'risetime': 1544797244}, {'duration': 636, 'risetime': 1544802994}, {'duration': 566, 'risetime': 1544808855}, {'duration': 554, 'risetime': 1544814713}, {'duration': 623, 'risetime': 1544820512}]}\n",
      "{'message': 'success', 'request': {'altitude': 100, 'datetime': 1544765793, 'latitude': 40.71, 'longitude': -74.0, 'passes': 5}, 'response': [{'duration': 583, 'risetime': 1544797244}, {'duration': 636, 'risetime': 1544802994}, {'duration': 566, 'risetime': 1544808855}, {'duration': 554, 'risetime': 1544814713}, {'duration': 623, 'risetime': 1544820512}]}\n"
     ]
    }
   ],
   "source": [
    "# Set up the parameters we want to pass to the API.\n",
    "# This is the latitude and longitude of New York City.\n",
    "parameters = {\"lat\": 40.71, \"lon\": -74}\n",
    "\n",
    "# Make a get request with the parameters.\n",
    "response = requests.get(\"http://api.open-notify.org/iss-pass.json\", params=parameters)\n",
    "\n",
    "# Print the content of the response (the data the server returned)\n",
    "print(response.json())\n",
    "\n",
    "# This gets the same data as the command above\n",
    "response = requests.get(\"http://api.open-notify.org/iss-pass.json?lat=40.71&lon=-74\")\n",
    "print(response.json())"
   ]
  },
  {
   "cell_type": "markdown",
   "metadata": {},
   "source": [
    "# Location HERE API "
   ]
  },
  {
   "cell_type": "code",
   "execution_count": 5,
   "metadata": {},
   "outputs": [],
   "source": [
    "parameters = {\"app_id\" : \"EPimKPfenNGqsgGCr01O\", \"app_code\" : \"n6V78llT2352UUagDt295g\"}\n",
    "\n",
    "app_id = \"EPimKPfenNGqsgGCr01O\"\n",
    "app_code  = \"n6V78llT2352UUagDt295g\""
   ]
  },
  {
   "cell_type": "code",
   "execution_count": 3,
   "metadata": {},
   "outputs": [],
   "source": [
    "response = requests.get(\"https://places.cit.api.here.com/places/v1/autosuggest?at=40.74917,-73.98529&q=chrysler\",params=parameters)"
   ]
  },
  {
   "cell_type": "code",
   "execution_count": 29,
   "metadata": {},
   "outputs": [
    {
     "data": {
      "text/plain": [
       "200"
      ]
     },
     "execution_count": 29,
     "metadata": {},
     "output_type": "execute_result"
    }
   ],
   "source": [
    "response.status_code"
   ]
  },
  {
   "cell_type": "markdown",
   "metadata": {},
   "source": [
    "# Finding Geocode "
   ]
  },
  {
   "cell_type": "code",
   "execution_count": 55,
   "metadata": {},
   "outputs": [],
   "source": [
    "search_results = requests.get(\"https://geocoder.api.here.com/6.2/geocode.json\",\n",
    "                             params={\"app_id\":app_id,\n",
    "                                     \"app_code\":app_code,\n",
    "                                     \"searchtext\":\"Basundhara+Dhaka\"})"
   ]
  },
  {
   "cell_type": "code",
   "execution_count": 56,
   "metadata": {},
   "outputs": [],
   "source": [
    "latitude = search_results.json()['Response']['View'][0]['Result'][0]['Location']['NavigationPosition'][0]['Latitude']\n",
    "longitude = search_results.json()['Response']['View'][0]['Result'][0]['Location']['NavigationPosition'][0]['Longitude']"
   ]
  },
  {
   "cell_type": "markdown",
   "metadata": {},
   "source": [
    "# Finding Nearby Banks"
   ]
  },
  {
   "cell_type": "code",
   "execution_count": 87,
   "metadata": {},
   "outputs": [],
   "source": [
    "browse_results = requests.get(\"https://places.cit.api.here.com/places/v1/browse\",\n",
    "                             params={\"app_id\":app_id,\n",
    "                                         \"app_code\":app_code,\n",
    "                                         \"at\":{\"latitude\":latitude,\"longitude\":longitude},\n",
    "                                         \"cat\":\"atm-bank-exchange\"\n",
    "                                         })"
   ]
  },
  {
   "cell_type": "code",
   "execution_count": 88,
   "metadata": {},
   "outputs": [
    {
     "data": {
      "text/plain": [
       "'https://places.cit.api.here.com/places/v1/browse?app_id=EPimKPfenNGqsgGCr01O&app_code=n6V78llT2352UUagDt295g&at=latitude&at=longitude&cat=atm-bank-exchange'"
      ]
     },
     "execution_count": 88,
     "metadata": {},
     "output_type": "execute_result"
    }
   ],
   "source": [
    "browse_results.url"
   ]
  },
  {
   "cell_type": "code",
   "execution_count": 89,
   "metadata": {},
   "outputs": [
    {
     "data": {
      "text/plain": [
       "'{\"status\":400,\"message\":\"Error in query parameter \\'at\\': incorrectly formatted position latitude\"}'"
      ]
     },
     "execution_count": 89,
     "metadata": {},
     "output_type": "execute_result"
    }
   ],
   "source": [
    "browse_results.text"
   ]
  },
  {
   "cell_type": "code",
   "execution_count": 91,
   "metadata": {},
   "outputs": [],
   "source": [
    "name = \"Mayeesha\"\n",
    "age = 26\n",
    "s = f\"Hello {name}, you are {age}\""
   ]
  },
  {
   "cell_type": "code",
   "execution_count": 99,
   "metadata": {},
   "outputs": [],
   "source": [
    "browse_request = f\"\"\"https://places.cit.api.here.com/places/v1/browse?app_id={app_id}&app_code={app_code}&in={latitude},{longitude};r=2000&cat=atm-bank-exchange&pretty\"\"\""
   ]
  },
  {
   "cell_type": "code",
   "execution_count": 101,
   "metadata": {},
   "outputs": [],
   "source": [
    "browse_results2 = requests.get(browse_request)"
   ]
  },
  {
   "cell_type": "code",
   "execution_count": 107,
   "metadata": {},
   "outputs": [],
   "source": [
    "json_result = browse_results2.json()"
   ]
  },
  {
   "cell_type": "code",
   "execution_count": 122,
   "metadata": {},
   "outputs": [
    {
     "name": "stdout",
     "output_type": "stream",
     "text": [
      "Islami Bank-Basundhara Road\n",
      "157\n",
      "Dutch Bangla Bank-Basundhara Road\n",
      "163\n",
      "Mutual Trust Bank\n",
      "222\n",
      "Islami Bank-Bir Uttam Rafiqul-Islam Ave\n",
      "231\n",
      "Mercantile Bank-Shahid Colonel Gulzar RD\n",
      "318\n",
      "Bank Asia-Bashundhara Abasik Elaka\n",
      "329\n",
      "Islami Bank-Nadda\n",
      "355\n",
      "Prime Bank-Abdus Sobahna Road\n",
      "369\n",
      "Sonali Bank-Nadda Bazar Baridhara\n",
      "377\n",
      "Southeast Bank-Block B\n",
      "391\n",
      "Dutch Bangla Bank-Shahid Colonel Gulzar RD\n",
      "401\n",
      "One Bank\n",
      "411\n",
      "First Security Training Institute, Bosundhara R/A, Dhaka\n",
      "420\n",
      "Sonali Bank-Nadda\n",
      "485\n",
      "Dutch Bangla Bank\n",
      "489\n",
      "National Bank-Shahid Colonel Gulzar RD\n",
      "504\n",
      "Brac Bank\n",
      "513\n",
      "City Bank\n",
      "517\n",
      "Eastern Bank-Abdus Sobahan Road\n",
      "539\n",
      "Western Union\n",
      "574\n"
     ]
    }
   ],
   "source": [
    "for result in json_result[\"results\"][\"items\"]:\n",
    "    print(result['title'])\n",
    "    print(result['distance'])"
   ]
  },
  {
   "cell_type": "code",
   "execution_count": 143,
   "metadata": {},
   "outputs": [],
   "source": [
    "def get_geo_code(area,city):\n",
    "    searchtext=area + \"+\"+city\n",
    "    geo_code = requests.get(\"https://geocoder.api.here.com/6.2/geocode.json\",\n",
    "                             params={\"app_id\":app_id,\n",
    "                                     \"app_code\":app_code,\n",
    "                                     \"searchtext\":searchtext})\n",
    "    if geo_code.status_code==200:\n",
    "        latitude= geo_code.json()['Response']['View'][0]['Result'][0]['Location']['NavigationPosition'][0]['Latitude']\n",
    "        longitude = geo_code.json()['Response']['View'][0]['Result'][0]['Location']['NavigationPosition'][0]['Longitude']\n",
    "        return (latitude,longitude)\n",
    "    else:\n",
    "        return \"Unable to get geolocation. Location Features can not be enabled.\""
   ]
  },
  {
   "cell_type": "code",
   "execution_count": 161,
   "metadata": {},
   "outputs": [],
   "source": [
    "def make_browse_request(latitude,longitude):\n",
    "    browse_request = f\"\"\"https://places.cit.api.here.com/places/v1/browse?app_id={app_id}&app_code={app_code}&in={latitude},{longitude};r=2000&cat=atm-bank-exchange&pretty\"\"\"\n",
    "    return browse_request"
   ]
  },
  {
   "cell_type": "code",
   "execution_count": 180,
   "metadata": {},
   "outputs": [],
   "source": [
    "def get_browse_response(browse_request):\n",
    "    response = requests.get(browse_request)\n",
    "    bank_names_distance = {}\n",
    "    if response.status_code==200:\n",
    "        json_result = response.json()\n",
    "        for result in json_result[\"results\"][\"items\"]:\n",
    "            bank_name = result[\"title\"]\n",
    "            distance = result[\"distance\"]\n",
    "            bank_names_distance[bank_name] = distance\n",
    "    return bank_names_distance"
   ]
  },
  {
   "cell_type": "code",
   "execution_count": 181,
   "metadata": {},
   "outputs": [],
   "source": [
    "geo_codes = get_geo_code(area=\"Basundhara\",city=\"Dhaka\")\n"
   ]
  },
  {
   "cell_type": "code",
   "execution_count": 182,
   "metadata": {},
   "outputs": [],
   "source": [
    "browse_request  = make_browse_request(latitude=geo_codes[0],longitude=geo_codes[1])\n"
   ]
  },
  {
   "cell_type": "code",
   "execution_count": 183,
   "metadata": {},
   "outputs": [],
   "source": [
    "geo_results = get_browse_response(browse_request)"
   ]
  },
  {
   "cell_type": "code",
   "execution_count": 195,
   "metadata": {},
   "outputs": [
    {
     "data": {
      "text/plain": [
       "{'Islami Bank-Basundhara Road': 157,\n",
       " 'Dutch Bangla Bank-Basundhara Road': 163,\n",
       " 'Mutual Trust Bank': 222,\n",
       " 'Islami Bank-Bir Uttam Rafiqul-Islam Ave': 231,\n",
       " 'Mercantile Bank-Shahid Colonel Gulzar RD': 318,\n",
       " 'Bank Asia-Bashundhara Abasik Elaka': 329,\n",
       " 'Islami Bank-Nadda': 355,\n",
       " 'Prime Bank-Abdus Sobahna Road': 369,\n",
       " 'Sonali Bank-Nadda Bazar Baridhara': 377,\n",
       " 'Southeast Bank-Block B': 391,\n",
       " 'Dutch Bangla Bank-Shahid Colonel Gulzar RD': 401,\n",
       " 'One Bank': 411,\n",
       " 'First Security Training Institute, Bosundhara R/A, Dhaka': 420,\n",
       " 'Sonali Bank-Nadda': 485,\n",
       " 'Dutch Bangla Bank': 489,\n",
       " 'National Bank-Shahid Colonel Gulzar RD': 504,\n",
       " 'Brac Bank': 513,\n",
       " 'City Bank': 517,\n",
       " 'Eastern Bank-Abdus Sobahan Road': 539,\n",
       " 'Western Union': 574}"
      ]
     },
     "execution_count": 195,
     "metadata": {},
     "output_type": "execute_result"
    }
   ],
   "source": [
    "geo_results"
   ]
  },
  {
   "cell_type": "code",
   "execution_count": 213,
   "metadata": {},
   "outputs": [],
   "source": [
    "card_preference_banks = [\"Dutch Bangla\",\"Mutual Trust\"]"
   ]
  },
  {
   "cell_type": "code",
   "execution_count": 233,
   "metadata": {},
   "outputs": [],
   "source": [
    "def location_scoring_banks(card_preference_banks, geo_results):\n",
    "    card_bank_score = {}\n",
    "    # Traverse through each of the banks that ranked high in the preferences\n",
    "    for card_bank in card_preference_banks:\n",
    "        current_bank_scores = []\n",
    "        # if any of those banks area nearby, then get a location score for those banks\n",
    "        for result in geo_results.keys():\n",
    "            if card_bank in result:\n",
    "                current_bank_scores.append(geo_results[result])\n",
    "        # each bank may have multiple locations, so the location score for a bank is the minimum of all the location scores.\n",
    "        current_bank_score_avg = np.array(current_bank_scores).min()\n",
    "        # assign the location score to each of the banks from the card preference\n",
    "        card_bank_score[card_bank] = current_bank_score_avg\n",
    "        \n",
    "    return card_bank_score"
   ]
  },
  {
   "cell_type": "code",
   "execution_count": 234,
   "metadata": {},
   "outputs": [
    {
     "data": {
      "text/plain": [
       "{'Dutch Bangla': 163, 'Mutual Trust': 222}"
      ]
     },
     "execution_count": 234,
     "metadata": {},
     "output_type": "execute_result"
    }
   ],
   "source": [
    "location_scoring_banks(card_preference_banks,geo_results)"
   ]
  },
  {
   "cell_type": "code",
   "execution_count": null,
   "metadata": {},
   "outputs": [],
   "source": []
  }
 ],
 "metadata": {
  "kernelspec": {
   "display_name": "Python 3",
   "language": "python",
   "name": "python3"
  },
  "language_info": {
   "codemirror_mode": {
    "name": "ipython",
    "version": 3
   },
   "file_extension": ".py",
   "mimetype": "text/x-python",
   "name": "python",
   "nbconvert_exporter": "python",
   "pygments_lexer": "ipython3",
   "version": "3.7.0"
  }
 },
 "nbformat": 4,
 "nbformat_minor": 2
}
